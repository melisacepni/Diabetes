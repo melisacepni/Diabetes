{
  "nbformat": 4,
  "nbformat_minor": 0,
  "metadata": {
    "colab": {
      "provenance": []
    },
    "kernelspec": {
      "name": "python3",
      "display_name": "Python 3"
    },
    "language_info": {
      "name": "python"
    }
  },
  "cells": [
    {
      "cell_type": "markdown",
      "source": [
        "# Feature Engineering Case Study"
      ],
      "metadata": {
        "id": "VKPheJeSJ3sT"
      }
    },
    {
      "cell_type": "markdown",
      "source": [
        "### İş problemi\n",
        "\n",
        "Özellikleri belirtildiğinde kişilerin diyabet hastası olup olmadıklarını tahmin\n",
        "edebilecek bir makine öğrenmesi modeli geliştirilmesi istenmektedir. Modeli\n",
        "geliştirmeden önce gerekli olan veri analizi ve özellik mühendisliği adımlarını\n",
        "gerçekleştirmeniz beklenmektedir."
      ],
      "metadata": {
        "id": "yKE4bo77J-VU"
      }
    },
    {
      "cell_type": "markdown",
      "source": [
        "### Veri Setinin Hikayesi\n",
        "\n",
        "Veri seti ABD'deki Ulusal Diyabet-Sindirim-Böbrek Hastalıkları Enstitüleri'nde tutulan büyük veri setinin parçasıdır. ABD'deki\n",
        "Arizona Eyaleti'nin en büyük 5. şehri olan Phoenix şehrinde yaşayan 21 yaş ve üzerinde olan Pima Indian kadınları üzerinde\n",
        "yapılan diyabet araştırması için kullanılan verilerdir.\n",
        "Hedef değişken \"outcome\" olarak belirtilmiş olup; 1 diyabet test sonucunun pozitif oluşunu, 0 ise negatif oluşunu belirtmektedir."
      ],
      "metadata": {
        "id": "QdgTz2dFKSTJ"
      }
    },
    {
      "cell_type": "markdown",
      "source": [
        "## Proje Görevleri"
      ],
      "metadata": {
        "id": "_NiHJiGpKbUk"
      }
    },
    {
      "cell_type": "markdown",
      "source": [
        "# Görev 1: EDA"
      ],
      "metadata": {
        "id": "X0VJ8RqYOWNy"
      }
    },
    {
      "cell_type": "markdown",
      "source": [
        "#### Adım 1: Genel resmi inceleyiniz."
      ],
      "metadata": {
        "id": "_MCnHULwOgh7"
      }
    },
    {
      "cell_type": "code",
      "source": [
        "import numpy as np\n",
        "import pandas as pd\n",
        "import seaborn as sns\n",
        "from matplotlib import pyplot as plt\n",
        "import missingno as msno\n",
        "from sklearn.metrics import accuracy_score, precision_score, recall_score, f1_score,roc_auc_score\n",
        "from sklearn.model_selection import GridSearchCV, cross_validate, train_test_split\n",
        "from sklearn.preprocessing import LabelEncoder, StandardScaler\n",
        "from sklearn.ensemble import RandomForestClassifier\n",
        "\n",
        "pd.set_option('display.max_columns', None)\n",
        "pd.set_option('display.max_rows', None)\n",
        "pd.set_option('display.float_format', lambda x: '%.3f' % x)\n",
        "pd.set_option('display.width', 500)"
      ],
      "metadata": {
        "id": "v16nCojcOlbT"
      },
      "execution_count": 1,
      "outputs": []
    },
    {
      "cell_type": "code",
      "source": [
        "diabetes_ = pd.read_csv(\"diabetes.csv\")\n",
        "diabetes = diabetes_.copy()"
      ],
      "metadata": {
        "id": "xDgq0dCAOqHE"
      },
      "execution_count": 2,
      "outputs": []
    },
    {
      "cell_type": "code",
      "source": [
        "print(diabetes.head())\n",
        "print(diabetes.shape)\n",
        "print(diabetes.dtypes)"
      ],
      "metadata": {
        "colab": {
          "base_uri": "https://localhost:8080/"
        },
        "id": "Y4T8JkVJPl8F",
        "outputId": "a1b66f52-549c-4c53-8c85-296ca7bc8007"
      },
      "execution_count": 3,
      "outputs": [
        {
          "output_type": "stream",
          "name": "stdout",
          "text": [
            "   Pregnancies  Glucose  BloodPressure  SkinThickness  Insulin    BMI  DiabetesPedigreeFunction  Age  Outcome\n",
            "0            6      148             72             35        0 33.600                     0.627   50        1\n",
            "1            1       85             66             29        0 26.600                     0.351   31        0\n",
            "2            8      183             64              0        0 23.300                     0.672   32        1\n",
            "3            1       89             66             23       94 28.100                     0.167   21        0\n",
            "4            0      137             40             35      168 43.100                     2.288   33        1\n",
            "(768, 9)\n",
            "Pregnancies                   int64\n",
            "Glucose                       int64\n",
            "BloodPressure                 int64\n",
            "SkinThickness                 int64\n",
            "Insulin                       int64\n",
            "BMI                         float64\n",
            "DiabetesPedigreeFunction    float64\n",
            "Age                           int64\n",
            "Outcome                       int64\n",
            "dtype: object\n"
          ]
        }
      ]
    },
    {
      "cell_type": "code",
      "source": [
        "print(diabetes.info())"
      ],
      "metadata": {
        "colab": {
          "base_uri": "https://localhost:8080/"
        },
        "id": "BoI8fepe16ra",
        "outputId": "e4824f71-bad2-4c0c-f5c2-9cd490feb128"
      },
      "execution_count": 4,
      "outputs": [
        {
          "output_type": "stream",
          "name": "stdout",
          "text": [
            "<class 'pandas.core.frame.DataFrame'>\n",
            "RangeIndex: 768 entries, 0 to 767\n",
            "Data columns (total 9 columns):\n",
            " #   Column                    Non-Null Count  Dtype  \n",
            "---  ------                    --------------  -----  \n",
            " 0   Pregnancies               768 non-null    int64  \n",
            " 1   Glucose                   768 non-null    int64  \n",
            " 2   BloodPressure             768 non-null    int64  \n",
            " 3   SkinThickness             768 non-null    int64  \n",
            " 4   Insulin                   768 non-null    int64  \n",
            " 5   BMI                       768 non-null    float64\n",
            " 6   DiabetesPedigreeFunction  768 non-null    float64\n",
            " 7   Age                       768 non-null    int64  \n",
            " 8   Outcome                   768 non-null    int64  \n",
            "dtypes: float64(2), int64(7)\n",
            "memory usage: 54.1 KB\n",
            "None\n"
          ]
        }
      ]
    },
    {
      "cell_type": "code",
      "source": [
        "diabetes.quantile([0, 0.05, 0.50, 0.95, 0.99, 1]).T"
      ],
      "metadata": {
        "colab": {
          "base_uri": "https://localhost:8080/",
          "height": 328
        },
        "id": "8ceE7b7kQnMK",
        "outputId": "d8bcc186-092f-4bd0-96e3-7a4a0281bed8"
      },
      "execution_count": 5,
      "outputs": [
        {
          "output_type": "execute_result",
          "data": {
            "text/plain": [
              "                          0.000  0.050   0.500   0.950   0.990   1.000\n",
              "Pregnancies               0.000  0.000   3.000  10.000  13.000  17.000\n",
              "Glucose                   0.000 79.000 117.000 181.000 196.000 199.000\n",
              "BloodPressure             0.000 38.700  72.000  90.000 106.000 122.000\n",
              "SkinThickness             0.000  0.000  23.000  44.000  51.330  99.000\n",
              "Insulin                   0.000  0.000  30.500 293.000 519.900 846.000\n",
              "BMI                       0.000 21.800  32.000  44.395  50.759  67.100\n",
              "DiabetesPedigreeFunction  0.078  0.140   0.372   1.133   1.698   2.420\n",
              "Age                      21.000 21.000  29.000  58.000  67.000  81.000\n",
              "Outcome                   0.000  0.000   0.000   1.000   1.000   1.000"
            ],
            "text/html": [
              "\n",
              "  <div id=\"df-510c4beb-5504-4bee-9879-674c2720e3f0\" class=\"colab-df-container\">\n",
              "    <div>\n",
              "<style scoped>\n",
              "    .dataframe tbody tr th:only-of-type {\n",
              "        vertical-align: middle;\n",
              "    }\n",
              "\n",
              "    .dataframe tbody tr th {\n",
              "        vertical-align: top;\n",
              "    }\n",
              "\n",
              "    .dataframe thead th {\n",
              "        text-align: right;\n",
              "    }\n",
              "</style>\n",
              "<table border=\"1\" class=\"dataframe\">\n",
              "  <thead>\n",
              "    <tr style=\"text-align: right;\">\n",
              "      <th></th>\n",
              "      <th>0.000</th>\n",
              "      <th>0.050</th>\n",
              "      <th>0.500</th>\n",
              "      <th>0.950</th>\n",
              "      <th>0.990</th>\n",
              "      <th>1.000</th>\n",
              "    </tr>\n",
              "  </thead>\n",
              "  <tbody>\n",
              "    <tr>\n",
              "      <th>Pregnancies</th>\n",
              "      <td>0.000</td>\n",
              "      <td>0.000</td>\n",
              "      <td>3.000</td>\n",
              "      <td>10.000</td>\n",
              "      <td>13.000</td>\n",
              "      <td>17.000</td>\n",
              "    </tr>\n",
              "    <tr>\n",
              "      <th>Glucose</th>\n",
              "      <td>0.000</td>\n",
              "      <td>79.000</td>\n",
              "      <td>117.000</td>\n",
              "      <td>181.000</td>\n",
              "      <td>196.000</td>\n",
              "      <td>199.000</td>\n",
              "    </tr>\n",
              "    <tr>\n",
              "      <th>BloodPressure</th>\n",
              "      <td>0.000</td>\n",
              "      <td>38.700</td>\n",
              "      <td>72.000</td>\n",
              "      <td>90.000</td>\n",
              "      <td>106.000</td>\n",
              "      <td>122.000</td>\n",
              "    </tr>\n",
              "    <tr>\n",
              "      <th>SkinThickness</th>\n",
              "      <td>0.000</td>\n",
              "      <td>0.000</td>\n",
              "      <td>23.000</td>\n",
              "      <td>44.000</td>\n",
              "      <td>51.330</td>\n",
              "      <td>99.000</td>\n",
              "    </tr>\n",
              "    <tr>\n",
              "      <th>Insulin</th>\n",
              "      <td>0.000</td>\n",
              "      <td>0.000</td>\n",
              "      <td>30.500</td>\n",
              "      <td>293.000</td>\n",
              "      <td>519.900</td>\n",
              "      <td>846.000</td>\n",
              "    </tr>\n",
              "    <tr>\n",
              "      <th>BMI</th>\n",
              "      <td>0.000</td>\n",
              "      <td>21.800</td>\n",
              "      <td>32.000</td>\n",
              "      <td>44.395</td>\n",
              "      <td>50.759</td>\n",
              "      <td>67.100</td>\n",
              "    </tr>\n",
              "    <tr>\n",
              "      <th>DiabetesPedigreeFunction</th>\n",
              "      <td>0.078</td>\n",
              "      <td>0.140</td>\n",
              "      <td>0.372</td>\n",
              "      <td>1.133</td>\n",
              "      <td>1.698</td>\n",
              "      <td>2.420</td>\n",
              "    </tr>\n",
              "    <tr>\n",
              "      <th>Age</th>\n",
              "      <td>21.000</td>\n",
              "      <td>21.000</td>\n",
              "      <td>29.000</td>\n",
              "      <td>58.000</td>\n",
              "      <td>67.000</td>\n",
              "      <td>81.000</td>\n",
              "    </tr>\n",
              "    <tr>\n",
              "      <th>Outcome</th>\n",
              "      <td>0.000</td>\n",
              "      <td>0.000</td>\n",
              "      <td>0.000</td>\n",
              "      <td>1.000</td>\n",
              "      <td>1.000</td>\n",
              "      <td>1.000</td>\n",
              "    </tr>\n",
              "  </tbody>\n",
              "</table>\n",
              "</div>\n",
              "    <div class=\"colab-df-buttons\">\n",
              "\n",
              "  <div class=\"colab-df-container\">\n",
              "    <button class=\"colab-df-convert\" onclick=\"convertToInteractive('df-510c4beb-5504-4bee-9879-674c2720e3f0')\"\n",
              "            title=\"Convert this dataframe to an interactive table.\"\n",
              "            style=\"display:none;\">\n",
              "\n",
              "  <svg xmlns=\"http://www.w3.org/2000/svg\" height=\"24px\" viewBox=\"0 -960 960 960\">\n",
              "    <path d=\"M120-120v-720h720v720H120Zm60-500h600v-160H180v160Zm220 220h160v-160H400v160Zm0 220h160v-160H400v160ZM180-400h160v-160H180v160Zm440 0h160v-160H620v160ZM180-180h160v-160H180v160Zm440 0h160v-160H620v160Z\"/>\n",
              "  </svg>\n",
              "    </button>\n",
              "\n",
              "  <style>\n",
              "    .colab-df-container {\n",
              "      display:flex;\n",
              "      gap: 12px;\n",
              "    }\n",
              "\n",
              "    .colab-df-convert {\n",
              "      background-color: #E8F0FE;\n",
              "      border: none;\n",
              "      border-radius: 50%;\n",
              "      cursor: pointer;\n",
              "      display: none;\n",
              "      fill: #1967D2;\n",
              "      height: 32px;\n",
              "      padding: 0 0 0 0;\n",
              "      width: 32px;\n",
              "    }\n",
              "\n",
              "    .colab-df-convert:hover {\n",
              "      background-color: #E2EBFA;\n",
              "      box-shadow: 0px 1px 2px rgba(60, 64, 67, 0.3), 0px 1px 3px 1px rgba(60, 64, 67, 0.15);\n",
              "      fill: #174EA6;\n",
              "    }\n",
              "\n",
              "    .colab-df-buttons div {\n",
              "      margin-bottom: 4px;\n",
              "    }\n",
              "\n",
              "    [theme=dark] .colab-df-convert {\n",
              "      background-color: #3B4455;\n",
              "      fill: #D2E3FC;\n",
              "    }\n",
              "\n",
              "    [theme=dark] .colab-df-convert:hover {\n",
              "      background-color: #434B5C;\n",
              "      box-shadow: 0px 1px 3px 1px rgba(0, 0, 0, 0.15);\n",
              "      filter: drop-shadow(0px 1px 2px rgba(0, 0, 0, 0.3));\n",
              "      fill: #FFFFFF;\n",
              "    }\n",
              "  </style>\n",
              "\n",
              "    <script>\n",
              "      const buttonEl =\n",
              "        document.querySelector('#df-510c4beb-5504-4bee-9879-674c2720e3f0 button.colab-df-convert');\n",
              "      buttonEl.style.display =\n",
              "        google.colab.kernel.accessAllowed ? 'block' : 'none';\n",
              "\n",
              "      async function convertToInteractive(key) {\n",
              "        const element = document.querySelector('#df-510c4beb-5504-4bee-9879-674c2720e3f0');\n",
              "        const dataTable =\n",
              "          await google.colab.kernel.invokeFunction('convertToInteractive',\n",
              "                                                    [key], {});\n",
              "        if (!dataTable) return;\n",
              "\n",
              "        const docLinkHtml = 'Like what you see? Visit the ' +\n",
              "          '<a target=\"_blank\" href=https://colab.research.google.com/notebooks/data_table.ipynb>data table notebook</a>'\n",
              "          + ' to learn more about interactive tables.';\n",
              "        element.innerHTML = '';\n",
              "        dataTable['output_type'] = 'display_data';\n",
              "        await google.colab.output.renderOutput(dataTable, element);\n",
              "        const docLink = document.createElement('div');\n",
              "        docLink.innerHTML = docLinkHtml;\n",
              "        element.appendChild(docLink);\n",
              "      }\n",
              "    </script>\n",
              "  </div>\n",
              "\n",
              "\n",
              "<div id=\"df-dd763b94-a474-484a-b597-add161e52e96\">\n",
              "  <button class=\"colab-df-quickchart\" onclick=\"quickchart('df-dd763b94-a474-484a-b597-add161e52e96')\"\n",
              "            title=\"Suggest charts\"\n",
              "            style=\"display:none;\">\n",
              "\n",
              "<svg xmlns=\"http://www.w3.org/2000/svg\" height=\"24px\"viewBox=\"0 0 24 24\"\n",
              "     width=\"24px\">\n",
              "    <g>\n",
              "        <path d=\"M19 3H5c-1.1 0-2 .9-2 2v14c0 1.1.9 2 2 2h14c1.1 0 2-.9 2-2V5c0-1.1-.9-2-2-2zM9 17H7v-7h2v7zm4 0h-2V7h2v10zm4 0h-2v-4h2v4z\"/>\n",
              "    </g>\n",
              "</svg>\n",
              "  </button>\n",
              "\n",
              "<style>\n",
              "  .colab-df-quickchart {\n",
              "      --bg-color: #E8F0FE;\n",
              "      --fill-color: #1967D2;\n",
              "      --hover-bg-color: #E2EBFA;\n",
              "      --hover-fill-color: #174EA6;\n",
              "      --disabled-fill-color: #AAA;\n",
              "      --disabled-bg-color: #DDD;\n",
              "  }\n",
              "\n",
              "  [theme=dark] .colab-df-quickchart {\n",
              "      --bg-color: #3B4455;\n",
              "      --fill-color: #D2E3FC;\n",
              "      --hover-bg-color: #434B5C;\n",
              "      --hover-fill-color: #FFFFFF;\n",
              "      --disabled-bg-color: #3B4455;\n",
              "      --disabled-fill-color: #666;\n",
              "  }\n",
              "\n",
              "  .colab-df-quickchart {\n",
              "    background-color: var(--bg-color);\n",
              "    border: none;\n",
              "    border-radius: 50%;\n",
              "    cursor: pointer;\n",
              "    display: none;\n",
              "    fill: var(--fill-color);\n",
              "    height: 32px;\n",
              "    padding: 0;\n",
              "    width: 32px;\n",
              "  }\n",
              "\n",
              "  .colab-df-quickchart:hover {\n",
              "    background-color: var(--hover-bg-color);\n",
              "    box-shadow: 0 1px 2px rgba(60, 64, 67, 0.3), 0 1px 3px 1px rgba(60, 64, 67, 0.15);\n",
              "    fill: var(--button-hover-fill-color);\n",
              "  }\n",
              "\n",
              "  .colab-df-quickchart-complete:disabled,\n",
              "  .colab-df-quickchart-complete:disabled:hover {\n",
              "    background-color: var(--disabled-bg-color);\n",
              "    fill: var(--disabled-fill-color);\n",
              "    box-shadow: none;\n",
              "  }\n",
              "\n",
              "  .colab-df-spinner {\n",
              "    border: 2px solid var(--fill-color);\n",
              "    border-color: transparent;\n",
              "    border-bottom-color: var(--fill-color);\n",
              "    animation:\n",
              "      spin 1s steps(1) infinite;\n",
              "  }\n",
              "\n",
              "  @keyframes spin {\n",
              "    0% {\n",
              "      border-color: transparent;\n",
              "      border-bottom-color: var(--fill-color);\n",
              "      border-left-color: var(--fill-color);\n",
              "    }\n",
              "    20% {\n",
              "      border-color: transparent;\n",
              "      border-left-color: var(--fill-color);\n",
              "      border-top-color: var(--fill-color);\n",
              "    }\n",
              "    30% {\n",
              "      border-color: transparent;\n",
              "      border-left-color: var(--fill-color);\n",
              "      border-top-color: var(--fill-color);\n",
              "      border-right-color: var(--fill-color);\n",
              "    }\n",
              "    40% {\n",
              "      border-color: transparent;\n",
              "      border-right-color: var(--fill-color);\n",
              "      border-top-color: var(--fill-color);\n",
              "    }\n",
              "    60% {\n",
              "      border-color: transparent;\n",
              "      border-right-color: var(--fill-color);\n",
              "    }\n",
              "    80% {\n",
              "      border-color: transparent;\n",
              "      border-right-color: var(--fill-color);\n",
              "      border-bottom-color: var(--fill-color);\n",
              "    }\n",
              "    90% {\n",
              "      border-color: transparent;\n",
              "      border-bottom-color: var(--fill-color);\n",
              "    }\n",
              "  }\n",
              "</style>\n",
              "\n",
              "  <script>\n",
              "    async function quickchart(key) {\n",
              "      const quickchartButtonEl =\n",
              "        document.querySelector('#' + key + ' button');\n",
              "      quickchartButtonEl.disabled = true;  // To prevent multiple clicks.\n",
              "      quickchartButtonEl.classList.add('colab-df-spinner');\n",
              "      try {\n",
              "        const charts = await google.colab.kernel.invokeFunction(\n",
              "            'suggestCharts', [key], {});\n",
              "      } catch (error) {\n",
              "        console.error('Error during call to suggestCharts:', error);\n",
              "      }\n",
              "      quickchartButtonEl.classList.remove('colab-df-spinner');\n",
              "      quickchartButtonEl.classList.add('colab-df-quickchart-complete');\n",
              "    }\n",
              "    (() => {\n",
              "      let quickchartButtonEl =\n",
              "        document.querySelector('#df-dd763b94-a474-484a-b597-add161e52e96 button');\n",
              "      quickchartButtonEl.style.display =\n",
              "        google.colab.kernel.accessAllowed ? 'block' : 'none';\n",
              "    })();\n",
              "  </script>\n",
              "</div>\n",
              "\n",
              "    </div>\n",
              "  </div>\n"
            ],
            "application/vnd.google.colaboratory.intrinsic+json": {
              "type": "dataframe",
              "summary": "{\n  \"name\": \"diabetes\",\n  \"rows\": 9,\n  \"fields\": [\n    {\n      \"column\": 0.0,\n      \"properties\": {\n        \"dtype\": \"number\",\n        \"std\": 6.996797553166735,\n        \"min\": 0.0,\n        \"max\": 21.0,\n        \"num_unique_values\": 3,\n        \"samples\": [\n          0.0,\n          0.078,\n          21.0\n        ],\n        \"semantic_type\": \"\",\n        \"description\": \"\"\n      }\n    },\n    {\n      \"column\": 0.05,\n      \"properties\": {\n        \"dtype\": \"number\",\n        \"std\": 26.897238921438472,\n        \"min\": 0.0,\n        \"max\": 79.0,\n        \"num_unique_values\": 6,\n        \"samples\": [\n          0.0,\n          79.0,\n          21.0\n        ],\n        \"semantic_type\": \"\",\n        \"description\": \"\"\n      }\n    },\n    {\n      \"column\": 0.5,\n      \"properties\": {\n        \"dtype\": \"number\",\n        \"std\": 38.3128147168513,\n        \"min\": 0.0,\n        \"max\": 117.0,\n        \"num_unique_values\": 9,\n        \"samples\": [\n          29.0,\n          117.0,\n          32.0\n        ],\n        \"semantic_type\": \"\",\n        \"description\": \"\"\n      }\n    },\n    {\n      \"column\": 0.95,\n      \"properties\": {\n        \"dtype\": \"number\",\n        \"std\": 97.51796845407232,\n        \"min\": 1.0,\n        \"max\": 293.0,\n        \"num_unique_values\": 9,\n        \"samples\": [\n          58.0,\n          181.0,\n          44.394999999999996\n        ],\n        \"semantic_type\": \"\",\n        \"description\": \"\"\n      }\n    },\n    {\n      \"column\": 0.99,\n      \"properties\": {\n        \"dtype\": \"number\",\n        \"std\": 164.77977194195944,\n        \"min\": 1.0,\n        \"max\": 519.9000000000012,\n        \"num_unique_values\": 9,\n        \"samples\": [\n          67.0,\n          196.0,\n          50.75900000000009\n        ],\n        \"semantic_type\": \"\",\n        \"description\": \"\"\n      }\n    },\n    {\n      \"column\": 1.0,\n      \"properties\": {\n        \"dtype\": \"number\",\n        \"std\": 265.2148962843361,\n        \"min\": 1.0,\n        \"max\": 846.0,\n        \"num_unique_values\": 9,\n        \"samples\": [\n          81.0,\n          199.0,\n          67.1\n        ],\n        \"semantic_type\": \"\",\n        \"description\": \"\"\n      }\n    }\n  ]\n}"
            }
          },
          "metadata": {},
          "execution_count": 5
        }
      ]
    },
    {
      "cell_type": "markdown",
      "source": [
        "### Adım 2: Numerik ve kategorik değişkenleri yakalayınız."
      ],
      "metadata": {
        "id": "BH99a8FVRDaa"
      }
    },
    {
      "cell_type": "code",
      "source": [
        "def grab_col_names(dataframe, cat_th=10, car_th=20):\n",
        "    \"\"\"\n",
        "\n",
        "    Veri setindeki kategorik, numerik ve kategorik fakat kardinal değişkenlerin isimlerini verir.\n",
        "    Not: Kategorik değişkenlerin içerisine numerik görünümlü kategorik değişkenler de dahildir.\n",
        "\n",
        "    Parameters\n",
        "    ------\n",
        "        dataframe: dataframe\n",
        "                Değişken isimleri alınmak istenilen dataframe\n",
        "        cat_th: int, optional\n",
        "                numerik fakat kategorik olan değişkenler için sınıf eşik değeri\n",
        "        car_th: int, optinal\n",
        "                kategorik fakat kardinal değişkenler için sınıf eşik değeri\n",
        "\n",
        "    Returns\n",
        "    ------\n",
        "        cat_cols: list\n",
        "                Kategorik değişken listesi\n",
        "        num_cols: list\n",
        "                Numerik değişken listesi\n",
        "        cat_but_car: list\n",
        "                Kategorik görünümlü kardinal değişken listesi\n",
        "\n",
        "    Examples\n",
        "    ------\n",
        "        import seaborn as sns\n",
        "        df = sns.load_dataset(\"iris\")\n",
        "        print(grab_col_names(df))\n",
        "\n",
        "\n",
        "    Notes\n",
        "    ------\n",
        "        cat_cols + num_cols + cat_but_car = toplam değişken sayısı\n",
        "        num_but_cat cat_cols'un içerisinde.\n",
        "        Return olan 3 liste toplamı toplam değişken sayısına eşittir: cat_cols + num_cols + cat_but_car = değişken sayısı\n",
        "\n",
        "    \"\"\"\n",
        "\n",
        "\n",
        "    # cat_cols, cat_but_car\n",
        "    cat_cols = [col for col in dataframe.columns if dataframe[col].dtypes == \"O\"]\n",
        "    num_but_cat = [col for col in dataframe.columns if dataframe[col].nunique() < cat_th and\n",
        "                   dataframe[col].dtypes != \"O\"]\n",
        "    cat_but_car = [col for col in dataframe.columns if dataframe[col].nunique() > car_th and\n",
        "                   dataframe[col].dtypes == \"O\"]\n",
        "    cat_cols = cat_cols + num_but_cat\n",
        "    cat_cols = [col for col in cat_cols if col not in cat_but_car]\n",
        "\n",
        "    # num_cols\n",
        "    num_cols = [col for col in dataframe.columns if dataframe[col].dtypes != \"O\"]\n",
        "    num_cols = [col for col in num_cols if col not in num_but_cat]\n",
        "\n",
        "    print(f\"Observations: {dataframe.shape[0]}\")\n",
        "    print(f\"Variables: {dataframe.shape[1]}\")\n",
        "    print(f'cat_cols: {len(cat_cols)}')\n",
        "    print(f'num_cols: {len(num_cols)}')\n",
        "    print(f'cat_but_car: {len(cat_but_car)}')\n",
        "    print(f'num_but_cat: {len(num_but_cat)}')\n",
        "    return cat_cols, num_cols, cat_but_car\n",
        "\n",
        "# sayısını raporlamak için\n",
        "cat_cols, num_cols, cat_but_car = grab_col_names(diabetes)"
      ],
      "metadata": {
        "colab": {
          "base_uri": "https://localhost:8080/"
        },
        "id": "KUuVqAKnR-t-",
        "outputId": "8774f69b-822b-4a7c-97db-fb00b693ce9c"
      },
      "execution_count": 6,
      "outputs": [
        {
          "output_type": "stream",
          "name": "stdout",
          "text": [
            "Observations: 768\n",
            "Variables: 9\n",
            "cat_cols: 1\n",
            "num_cols: 8\n",
            "cat_but_car: 0\n",
            "num_but_cat: 1\n"
          ]
        }
      ]
    },
    {
      "cell_type": "markdown",
      "source": [
        "### Adım 3: Numerik ve kategorik değişkenlerin analizini yapınız."
      ],
      "metadata": {
        "id": "800gnWzjSZ1R"
      }
    },
    {
      "cell_type": "code",
      "source": [
        "# numerik değişkenlerin analizi\n",
        "\n",
        "def num_summary(dataframe, numerical_col, plot=False):\n",
        "    quantiles = [0.05, 0.10, 0.20, 0.30, 0.40, 0.50, 0.60, 0.70, 0.80, 0.90, 0.95, 0.99]\n",
        "    print(dataframe[numerical_col].describe(quantiles).T)\n",
        "\n",
        "    if plot:\n",
        "        dataframe[numerical_col].hist(bins=20)\n",
        "        plt.xlabel(numerical_col)\n",
        "        plt.title(numerical_col)\n",
        "        plt.show()\n",
        "\n",
        "for col in num_cols:\n",
        "    num_summary(diabetes, col, plot=True)"
      ],
      "metadata": {
        "colab": {
          "base_uri": "https://localhost:8080/",
          "height": 1000
        },
        "id": "JY48J5UKScQl",
        "outputId": "f515af54-2e5a-4112-8f81-761d21968098"
      },
      "execution_count": 9,
      "outputs": [
        {
          "output_type": "stream",
          "name": "stdout",
          "text": [
            "count   768.000\n",
            "mean      3.845\n",
            "std       3.370\n",
            "min       0.000\n",
            "5%        0.000\n",
            "10%       0.000\n",
            "20%       1.000\n",
            "30%       1.000\n",
            "40%       2.000\n",
            "50%       3.000\n",
            "60%       4.000\n",
            "70%       5.000\n",
            "80%       7.000\n",
            "90%       9.000\n",
            "95%      10.000\n",
            "99%      13.000\n",
            "max      17.000\n",
            "Name: Pregnancies, dtype: float64\n"
          ]
        },
        {
          "output_type": "display_data",
          "data": {
            "text/plain": [
              "<Figure size 640x480 with 1 Axes>"
            ],
            "image/png": "[encoded data removed]"
          },
          "metadata": {}
        },
        {
          "output_type": "stream",
          "name": "stdout",
          "text": [
            "count   768.000\n",
            "mean    120.895\n",
            "std      31.973\n",
            "min       0.000\n",
            "5%       79.000\n",
            "10%      85.000\n",
            "20%      95.000\n",
            "30%     102.000\n",
            "40%     109.000\n",
            "50%     117.000\n",
            "60%     125.000\n",
            "70%     134.000\n",
            "80%     147.000\n",
            "90%     167.000\n",
            "95%     181.000\n",
            "99%     196.000\n",
            "max     199.000\n",
            "Name: Glucose, dtype: float64\n"
          ]
        },
        {
          "output_type": "display_data",
          "data": {
            "text/plain": [
              "<Figure size 640x480 with 1 Axes>"
            ],
            "image/png": "[encoded data removed]"
          },
          "metadata": {}
        },
        {
          "output_type": "stream",
          "name": "stdout",
          "text": [
            "count   768.000\n",
            "mean     69.105\n",
            "std      19.356\n",
            "min       0.000\n",
            "5%       38.700\n",
            "10%      54.000\n",
            "20%      60.000\n",
            "30%      64.000\n",
            "40%      68.000\n",
            "50%      72.000\n",
            "60%      74.000\n",
            "70%      78.000\n",
            "80%      82.000\n",
            "90%      88.000\n",
            "95%      90.000\n",
            "99%     106.000\n",
            "max     122.000\n",
            "Name: BloodPressure, dtype: float64\n"
          ]
        },
        {
          "output_type": "display_data",
          "data": {
            "text/plain": [
              "<Figure size 640x480 with 1 Axes>"
            ],
            "image/png": "[encoded data removed]"
          },
          "metadata": {}
        },
        {
          "output_type": "stream",
          "name": "stdout",
          "text": [
            "count   768.000\n",
            "mean     20.536\n",
            "std      15.952\n",
            "min       0.000\n",
            "5%        0.000\n",
            "10%       0.000\n",
            "20%       0.000\n",
            "30%       8.200\n",
            "40%      18.000\n",
            "50%      23.000\n",
            "60%      27.000\n",
            "70%      31.000\n",
            "80%      35.000\n",
            "90%      40.000\n",
            "95%      44.000\n",
            "99%      51.330\n",
            "max      99.000\n",
            "Name: SkinThickness, dtype: float64\n"
          ]
        },
        {
          "output_type": "display_data",
          "data": {
            "text/plain": [
              "<Figure size 640x480 with 1 Axes>"
            ],
            "image/png": "[encoded data removed]"
          },
          "metadata": {}
        },
        {
          "output_type": "stream",
          "name": "stdout",
          "text": [
            "count   768.000\n",
            "mean     79.799\n",
            "std     115.244\n",
            "min       0.000\n",
            "5%        0.000\n",
            "10%       0.000\n",
            "20%       0.000\n",
            "30%       0.000\n",
            "40%       0.000\n",
            "50%      30.500\n",
            "60%      72.200\n",
            "70%     106.000\n",
            "80%     150.000\n",
            "90%     210.000\n",
            "95%     293.000\n",
            "99%     519.900\n",
            "max     846.000\n",
            "Name: Insulin, dtype: float64\n"
          ]
        },
        {
          "output_type": "display_data",
          "data": {
            "text/plain": [
              "<Figure size 640x480 with 1 Axes>"
            ],
            "image/png": "[encoded data removed]"
          },
          "metadata": {}
        },
        {
          "output_type": "stream",
          "name": "stdout",
          "text": [
            "count   768.000\n",
            "mean     31.993\n",
            "std       7.884\n",
            "min       0.000\n",
            "5%       21.800\n",
            "10%      23.600\n",
            "20%      25.900\n",
            "30%      28.200\n",
            "40%      30.100\n",
            "50%      32.000\n",
            "60%      33.700\n",
            "70%      35.490\n",
            "80%      37.800\n",
            "90%      41.500\n",
            "95%      44.395\n",
            "99%      50.759\n",
            "max      67.100\n",
            "Name: BMI, dtype: float64\n"
          ]
        },
        {
          "output_type": "display_data",
          "data": {
            "text/plain": [
              "<Figure size 640x480 with 1 Axes>"
            ],
            "image/png": "[encoded data removed]"
          },
          "metadata": {}
        },
        {
          "output_type": "stream",
          "name": "stdout",
          "text": [
            "count   768.000\n",
            "mean      0.472\n",
            "std       0.331\n",
            "min       0.078\n",
            "5%        0.140\n",
            "10%       0.165\n",
            "20%       0.219\n",
            "30%       0.259\n",
            "40%       0.303\n",
            "50%       0.372\n",
            "60%       0.454\n",
            "70%       0.564\n",
            "80%       0.687\n",
            "90%       0.879\n",
            "95%       1.133\n",
            "99%       1.698\n",
            "max       2.420\n",
            "Name: DiabetesPedigreeFunction, dtype: float64\n"
          ]
        },
        {
          "output_type": "display_data",
          "data": {
            "text/plain": [
              "<Figure size 640x480 with 1 Axes>"
            ],
            "image/png": "[encoded data removed]"
          },
          "metadata": {}
        },
        {
          "output_type": "stream",
          "name": "stdout",
          "text": [
            "count   768.000\n",
            "mean     33.241\n",
            "std      11.760\n",
            "min      21.000\n",
            "5%       21.000\n",
            "10%      22.000\n",
            "20%      23.000\n",
            "30%      25.000\n",
            "40%      27.000\n",
            "50%      29.000\n",
            "60%      33.000\n",
            "70%      38.000\n",
            "80%      42.600\n",
            "90%      51.000\n",
            "95%      58.000\n",
            "99%      67.000\n",
            "max      81.000\n",
            "Name: Age, dtype: float64\n"
          ]
        },
        {
          "output_type": "display_data",
          "data": {
            "text/plain": [
              "<Figure size 640x480 with 1 Axes>"
            ],
            "image/png": "[encoded data removed]"
          },
          "metadata": {}
        }
      ]
    },
    {
      "cell_type": "code",
      "source": [
        "# kategorik değişkenlerin analizi\n",
        "\n",
        "def cat_summary(dataframe, col_name, plot=False):\n",
        "    print(pd.DataFrame({col_name: dataframe[col_name].value_counts(),\n",
        "                        \"Ratio\": 100 * dataframe[col_name].value_counts() / len(dataframe)}))\n",
        "    if plot:\n",
        "        sns.countplot(x=dataframe[col_name], data=dataframe)\n",
        "        plt.show()\n",
        "\n",
        "for col in cat_cols:\n",
        "    cat_summary(diabetes, col)"
      ],
      "metadata": {
        "colab": {
          "base_uri": "https://localhost:8080/"
        },
        "id": "1q0Nep3PTX52",
        "outputId": "8edf07c1-f54e-4163-ee25-42a41a35f786"
      },
      "execution_count": 10,
      "outputs": [
        {
          "output_type": "stream",
          "name": "stdout",
          "text": [
            "         Outcome  Ratio\n",
            "Outcome                \n",
            "0            500 65.104\n",
            "1            268 34.896\n"
          ]
        }
      ]
    },
    {
      "cell_type": "markdown",
      "source": [
        "### Adım 4: Hedef değişken analizi yapınız."
      ],
      "metadata": {
        "id": "lq1Z3pP1ToAe"
      }
    },
    {
      "cell_type": "code",
      "source": [
        "# kategorik değişkenlere göre hedef değişkenin ortalaması\n",
        "\n",
        "for col in cat_cols:\n",
        "    print(pd.DataFrame({col: diabetes.groupby(col)[\"Outcome\"].mean()}))"
      ],
      "metadata": {
        "colab": {
          "base_uri": "https://localhost:8080/"
        },
        "id": "eelfvIp_Txth",
        "outputId": "5e5347a9-3a2e-4d4a-9730-6b6c6978e8a6"
      },
      "execution_count": 13,
      "outputs": [
        {
          "output_type": "stream",
          "name": "stdout",
          "text": [
            "         Outcome\n",
            "Outcome         \n",
            "0          0.000\n",
            "1          1.000\n"
          ]
        }
      ]
    },
    {
      "cell_type": "code",
      "source": [
        "# hedef değişkene göre numerik değişkenlerin ortalaması\n",
        "\n",
        "for col in num_cols:\n",
        "    print(diabetes.groupby(\"Outcome\").agg({col: \"mean\"}))"
      ],
      "metadata": {
        "colab": {
          "base_uri": "https://localhost:8080/"
        },
        "id": "991ER0wQT3M7",
        "outputId": "89e8fcdc-e209-49f2-cc42-a1902163787b"
      },
      "execution_count": 14,
      "outputs": [
        {
          "output_type": "stream",
          "name": "stdout",
          "text": [
            "         Pregnancies\n",
            "Outcome             \n",
            "0              3.298\n",
            "1              4.866\n",
            "         Glucose\n",
            "Outcome         \n",
            "0        109.980\n",
            "1        141.257\n",
            "         BloodPressure\n",
            "Outcome               \n",
            "0               68.184\n",
            "1               70.825\n",
            "         SkinThickness\n",
            "Outcome               \n",
            "0               19.664\n",
            "1               22.164\n",
            "         Insulin\n",
            "Outcome         \n",
            "0         68.792\n",
            "1        100.336\n",
            "           BMI\n",
            "Outcome       \n",
            "0       30.304\n",
            "1       35.143\n",
            "         DiabetesPedigreeFunction\n",
            "Outcome                          \n",
            "0                           0.430\n",
            "1                           0.550\n",
            "           Age\n",
            "Outcome       \n",
            "0       31.190\n",
            "1       37.067\n"
          ]
        }
      ]
    },
    {
      "cell_type": "markdown",
      "source": [
        "### Adım 5: Aykırı gözlem analizi yapınız."
      ],
      "metadata": {
        "id": "UgldQ1L1VnY7"
      }
    },
    {
      "cell_type": "code",
      "source": [
        "def outlier_thresholds(dataframe, col_name, q1=0.05, q3=0.95):\n",
        "    quartile1 = dataframe[col_name].quantile(q1)\n",
        "    quartile3 = dataframe[col_name].quantile(q3)\n",
        "    interquantile_range = quartile3 - quartile1\n",
        "    up_limit = quartile3 + 1.5 * interquantile_range\n",
        "    low_limit = quartile1 - 1.5 * interquantile_range\n",
        "    return low_limit, up_limit\n",
        "\n",
        "print(outlier_thresholds(diabetes, \"Pregnancies\"))\n",
        "print(outlier_thresholds(diabetes, \"Glucose\"))\n",
        "print(outlier_thresholds(diabetes, \"BloodPressure\"))\n",
        "print(outlier_thresholds(diabetes, \"SkinThickness\"))\n",
        "print(outlier_thresholds(diabetes, \"Insulin\"))\n",
        "print(outlier_thresholds(diabetes, \"BMI\"))\n",
        "print(outlier_thresholds(diabetes, \"DiabetesPedigreeFunction\"))\n",
        "print(outlier_thresholds(diabetes, \"Age\"))\n",
        "print(outlier_thresholds(diabetes, \"Outcome\"))\n"
      ],
      "metadata": {
        "colab": {
          "base_uri": "https://localhost:8080/"
        },
        "id": "tC5kUbceVsjT",
        "outputId": "c9375d14-778f-420d-ab2f-5e4128f53cbe"
      },
      "execution_count": 15,
      "outputs": [
        {
          "output_type": "stream",
          "name": "stdout",
          "text": [
            "(-15.0, 25.0)\n",
            "(-74.0, 334.0)\n",
            "(-38.249999999999986, 166.95)\n",
            "(-66.0, 110.0)\n",
            "(-439.5, 732.5)\n",
            "(-12.09249999999999, 78.2875)\n",
            "(-1.3483999999999996, 2.621599999999999)\n",
            "(-34.5, 113.5)\n",
            "(-1.5, 2.5)\n"
          ]
        }
      ]
    },
    {
      "cell_type": "code",
      "source": [
        "def check_outlier(dataframe, col_name):\n",
        "    low_limit, up_limit = outlier_thresholds(dataframe, col_name)\n",
        "    if dataframe[(dataframe[col_name] > up_limit) | (dataframe[col_name] < low_limit)].any(axis=None):\n",
        "        return True\n",
        "    else:\n",
        "        return False\n",
        "\n",
        "for col in num_cols:\n",
        "    print(f\"{col}: {check_outlier(diabetes, col)}\")"
      ],
      "metadata": {
        "colab": {
          "base_uri": "https://localhost:8080/"
        },
        "id": "F4TJ3X9UXOm4",
        "outputId": "75895c86-4378-4761-bfed-9cddbd850195"
      },
      "execution_count": 19,
      "outputs": [
        {
          "output_type": "stream",
          "name": "stdout",
          "text": [
            "Pregnancies: False\n",
            "Glucose: False\n",
            "BloodPressure: False\n",
            "SkinThickness: False\n",
            "Insulin: True\n",
            "BMI: False\n",
            "DiabetesPedigreeFunction: False\n",
            "Age: False\n"
          ]
        }
      ]
    },
    {
      "cell_type": "markdown",
      "source": [
        "sadece Insulin değişkeninde outlier var"
      ],
      "metadata": {
        "id": "wfm0UBtsXcfj"
      }
    },
    {
      "cell_type": "markdown",
      "source": [
        "### Adım 6: Eksik gözlem analizi yapınız."
      ],
      "metadata": {
        "id": "Tceb-y35X0Tj"
      }
    },
    {
      "cell_type": "code",
      "source": [
        "diabetes.isnull().sum().sum()"
      ],
      "metadata": {
        "colab": {
          "base_uri": "https://localhost:8080/"
        },
        "id": "_pUKhzoUX2Ba",
        "outputId": "53905708-0362-4416-95d3-4c759d940297"
      },
      "execution_count": null,
      "outputs": [
        {
          "output_type": "execute_result",
          "data": {
            "text/plain": [
              "0"
            ]
          },
          "metadata": {},
          "execution_count": 99
        }
      ]
    },
    {
      "cell_type": "code",
      "source": [
        "diabetes.isnull().sum()"
      ],
      "metadata": {
        "colab": {
          "base_uri": "https://localhost:8080/",
          "height": 362
        },
        "id": "GhyTkGBhX9T6",
        "outputId": "581aaa0c-a47e-432b-e2bb-315064121ad9"
      },
      "execution_count": null,
      "outputs": [
        {
          "output_type": "execute_result",
          "data": {
            "text/plain": [
              "Pregnancies                 0\n",
              "Glucose                     0\n",
              "BloodPressure               0\n",
              "SkinThickness               0\n",
              "Insulin                     0\n",
              "BMI                         0\n",
              "DiabetesPedigreeFunction    0\n",
              "Age                         0\n",
              "Outcome                     0\n",
              "dtype: int64"
            ],
            "text/html": [
              "<div>\n",
              "<style scoped>\n",
              "    .dataframe tbody tr th:only-of-type {\n",
              "        vertical-align: middle;\n",
              "    }\n",
              "\n",
              "    .dataframe tbody tr th {\n",
              "        vertical-align: top;\n",
              "    }\n",
              "\n",
              "    .dataframe thead th {\n",
              "        text-align: right;\n",
              "    }\n",
              "</style>\n",
              "<table border=\"1\" class=\"dataframe\">\n",
              "  <thead>\n",
              "    <tr style=\"text-align: right;\">\n",
              "      <th></th>\n",
              "      <th>0</th>\n",
              "    </tr>\n",
              "  </thead>\n",
              "  <tbody>\n",
              "    <tr>\n",
              "      <th>Pregnancies</th>\n",
              "      <td>0</td>\n",
              "    </tr>\n",
              "    <tr>\n",
              "      <th>Glucose</th>\n",
              "      <td>0</td>\n",
              "    </tr>\n",
              "    <tr>\n",
              "      <th>BloodPressure</th>\n",
              "      <td>0</td>\n",
              "    </tr>\n",
              "    <tr>\n",
              "      <th>SkinThickness</th>\n",
              "      <td>0</td>\n",
              "    </tr>\n",
              "    <tr>\n",
              "      <th>Insulin</th>\n",
              "      <td>0</td>\n",
              "    </tr>\n",
              "    <tr>\n",
              "      <th>BMI</th>\n",
              "      <td>0</td>\n",
              "    </tr>\n",
              "    <tr>\n",
              "      <th>DiabetesPedigreeFunction</th>\n",
              "      <td>0</td>\n",
              "    </tr>\n",
              "    <tr>\n",
              "      <th>Age</th>\n",
              "      <td>0</td>\n",
              "    </tr>\n",
              "    <tr>\n",
              "      <th>Outcome</th>\n",
              "      <td>0</td>\n",
              "    </tr>\n",
              "  </tbody>\n",
              "</table>\n",
              "</div><br><label><b>dtype:</b> int64</label>"
            ]
          },
          "metadata": {},
          "execution_count": 100
        }
      ]
    },
    {
      "cell_type": "markdown",
      "source": [
        "### Adım 7: Korelasyon analizi yapınız."
      ],
      "metadata": {
        "id": "FtUTU86QYG9E"
      }
    },
    {
      "cell_type": "code",
      "source": [
        "# Korelasyon Matrisi Oluşturma\n",
        "plt.figure(figsize=(10, 8))\n",
        "sns.heatmap(diabetes.corr(), annot=True, cmap=\"coolwarm\", fmt=\".2f\")\n",
        "plt.title(\"Correlation Matrix\", fontsize=20)\n",
        "plt.show()"
      ],
      "metadata": {
        "colab": {
          "base_uri": "https://localhost:8080/",
          "height": 623
        },
        "id": "DucQuYLjYIwe",
        "outputId": "f376c89c-59b7-45b2-f48e-a5b03d5f5b13"
      },
      "execution_count": 21,
      "outputs": [
        {
          "output_type": "display_data",
          "data": {
            "text/plain": [
              "<Figure size 1000x800 with 2 Axes>"
            ],
            "image/png": "[encoded data removed]"
          },
          "metadata": {}
        }
      ]
    },
    {
      "cell_type": "code",
      "source": [
        "y = diabetes[\"Outcome\"]\n",
        "X = diabetes.drop(\"Outcome\", axis=1)\n",
        "\n",
        "X_train, X_test, y_train, y_test = train_test_split(X, y, test_size=0.2, random_state=42)\n",
        "\n",
        "rf_model = RandomForestClassifier(random_state=42)\n",
        "rf_model.fit(X_train, y_train)\n",
        "\n",
        "y_pred = rf_model.predict(X_test)\n",
        "\n",
        "accuracy = accuracy_score(y_test, y_pred)\n",
        "precision = precision_score(y_test, y_pred)\n",
        "recall = recall_score(y_test, y_pred)\n",
        "f1 = f1_score(y_test, y_pred)\n",
        "roc_auc = roc_auc_score(y_test, model.predict_proba(X_test)[:, 1])\n",
        "\n",
        "print(f\"Accuracy: {accuracy}\")\n",
        "print(f\"Precision: {precision}\")\n",
        "print(f\"Recall: {recall}\")\n",
        "print(f\"F1 Score: {f1}\")\n",
        "print(f\"ROC AUC: {roc_auc}\")"
      ],
      "metadata": {
        "colab": {
          "base_uri": "https://localhost:8080/"
        },
        "id": "LyplCAO4sXcY",
        "outputId": "133c5b7f-b1d3-45cf-f6ff-6ebb0e8040d6"
      },
      "execution_count": 24,
      "outputs": [
        {
          "output_type": "stream",
          "name": "stdout",
          "text": [
            "Accuracy: 0.7207792207792207\n",
            "Precision: 0.6071428571428571\n",
            "Recall: 0.6181818181818182\n",
            "F1 Score: 0.6126126126126126\n",
            "ROC AUC: 0.9828282828282828\n"
          ]
        }
      ]
    },
    {
      "cell_type": "code",
      "source": [
        "def plot_importance(model, features, num=None, palette=\"viridis\", title=\"Feature Importance\", save=False):\n",
        "    if num is None:\n",
        "        num = len(features.columns)\n",
        "\n",
        "    feature_imp = pd.DataFrame({'Value': model.feature_importances_, 'Feature': features.columns})\n",
        "    feature_imp[\"Value\"] = feature_imp[\"Value\"] * 100\n",
        "\n",
        "    plt.figure(figsize=(12, 8))\n",
        "    sns.set(font_scale=1.2)\n",
        "\n",
        "    palette = sns.color_palette(\"Set2\", num)\n",
        "    sns.barplot(x=\"Value\", y=\"Feature\",\n",
        "                data=feature_imp.sort_values(by=\"Value\", ascending=False)[0:num], palette=palette)\n",
        "\n",
        "    plt.title(title, fontsize=16)\n",
        "    plt.xlabel(\"Importance (%)\", fontsize=14)\n",
        "    plt.ylabel(\"Features\", fontsize=14)\n",
        "\n",
        "    plt.tight_layout()\n",
        "    plt.show(block=True)\n",
        "\n",
        "    if save:\n",
        "        plt.savefig('importances.png')\n",
        "\n",
        "plot_importance(rf_model, X, palette=\"coolwarm\")"
      ],
      "metadata": {
        "colab": {
          "base_uri": "https://localhost:8080/",
          "height": 557
        },
        "id": "QFSiqHx84sFP",
        "outputId": "95cd8bf4-61b1-4419-a34b-dac68bd2d1ac"
      },
      "execution_count": 28,
      "outputs": [
        {
          "output_type": "stream",
          "name": "stderr",
          "text": [
            "<ipython-input-28-cfb86f70adc9>:12: FutureWarning: \n",
            "\n",
            "Passing `palette` without assigning `hue` is deprecated and will be removed in v0.14.0. Assign the `y` variable to `hue` and set `legend=False` for the same effect.\n",
            "\n",
            "  sns.barplot(x=\"Value\", y=\"Feature\",\n"
          ]
        },
        {
          "output_type": "display_data",
          "data": {
            "text/plain": [
              "<Figure size 1200x800 with 1 Axes>"
            ],
            "image/png": "[encoded data removed]"
          },
          "metadata": {}
        }
      ]
    },
    {
      "cell_type": "markdown",
      "source": [
        "# Görev 2: Feature Engineering"
      ],
      "metadata": {
        "id": "UuhRe_UPvOGv"
      }
    },
    {
      "cell_type": "markdown",
      "source": [
        "### Adım 1: Eksik ve aykırı değerler için gerekli işlemleri yapınız. Veri setinde eksik gözlem bulunmamakta ama Glikoz, Insulin vb. değişkenlerde 0 değeri içeren gözlem birimleri eksik değeri ifade ediyor olabilir. Örneğin; bir kişinin glikoz veya insulin değeri 0 olamayacaktır. Bu durumu dikkate alarak sıfır değerlerini ilgili değerlerde NaN olarak atama yapıp sonrasında eksik değerlere işlemleri uygulayabilirsiniz."
      ],
      "metadata": {
        "id": "EMvt4ptnvYQX"
      }
    },
    {
      "cell_type": "code",
      "source": [
        "selected=[\"Glucose\",\"SkinThickness\",\"Insulin\",\"BMI\",\"BloodPressure\"]\n",
        "\n",
        "for col in selected:\n",
        "    diabetes[col]= diabetes[col].apply(lambda x: np.nan if x==0 else x)"
      ],
      "metadata": {
        "id": "IFxtGkEv6XqN"
      },
      "execution_count": 39,
      "outputs": []
    },
    {
      "cell_type": "code",
      "source": [
        "diabetes.isnull().sum().sum()"
      ],
      "metadata": {
        "colab": {
          "base_uri": "https://localhost:8080/"
        },
        "id": "joTULFVWxEik",
        "outputId": "ea65d625-124f-4392-a6ea-a42f729b358c"
      },
      "execution_count": 40,
      "outputs": [
        {
          "output_type": "execute_result",
          "data": {
            "text/plain": [
              "652"
            ]
          },
          "metadata": {},
          "execution_count": 40
        }
      ]
    },
    {
      "cell_type": "code",
      "source": [
        "diabetes.isnull().sum()"
      ],
      "metadata": {
        "colab": {
          "base_uri": "https://localhost:8080/",
          "height": 362
        },
        "id": "NVoPoAoDxICd",
        "outputId": "f42fd5cd-e52f-49fa-e6d0-0cd7100c93ea"
      },
      "execution_count": 41,
      "outputs": [
        {
          "output_type": "execute_result",
          "data": {
            "text/plain": [
              "Pregnancies                   0\n",
              "Glucose                       5\n",
              "BloodPressure                35\n",
              "SkinThickness               227\n",
              "Insulin                     374\n",
              "BMI                          11\n",
              "DiabetesPedigreeFunction      0\n",
              "Age                           0\n",
              "Outcome                       0\n",
              "dtype: int64"
            ],
            "text/html": [
              "<div>\n",
              "<style scoped>\n",
              "    .dataframe tbody tr th:only-of-type {\n",
              "        vertical-align: middle;\n",
              "    }\n",
              "\n",
              "    .dataframe tbody tr th {\n",
              "        vertical-align: top;\n",
              "    }\n",
              "\n",
              "    .dataframe thead th {\n",
              "        text-align: right;\n",
              "    }\n",
              "</style>\n",
              "<table border=\"1\" class=\"dataframe\">\n",
              "  <thead>\n",
              "    <tr style=\"text-align: right;\">\n",
              "      <th></th>\n",
              "      <th>0</th>\n",
              "    </tr>\n",
              "  </thead>\n",
              "  <tbody>\n",
              "    <tr>\n",
              "      <th>Pregnancies</th>\n",
              "      <td>0</td>\n",
              "    </tr>\n",
              "    <tr>\n",
              "      <th>Glucose</th>\n",
              "      <td>5</td>\n",
              "    </tr>\n",
              "    <tr>\n",
              "      <th>BloodPressure</th>\n",
              "      <td>35</td>\n",
              "    </tr>\n",
              "    <tr>\n",
              "      <th>SkinThickness</th>\n",
              "      <td>227</td>\n",
              "    </tr>\n",
              "    <tr>\n",
              "      <th>Insulin</th>\n",
              "      <td>374</td>\n",
              "    </tr>\n",
              "    <tr>\n",
              "      <th>BMI</th>\n",
              "      <td>11</td>\n",
              "    </tr>\n",
              "    <tr>\n",
              "      <th>DiabetesPedigreeFunction</th>\n",
              "      <td>0</td>\n",
              "    </tr>\n",
              "    <tr>\n",
              "      <th>Age</th>\n",
              "      <td>0</td>\n",
              "    </tr>\n",
              "    <tr>\n",
              "      <th>Outcome</th>\n",
              "      <td>0</td>\n",
              "    </tr>\n",
              "  </tbody>\n",
              "</table>\n",
              "</div><br><label><b>dtype:</b> int64</label>"
            ]
          },
          "metadata": {},
          "execution_count": 41
        }
      ]
    },
    {
      "cell_type": "code",
      "source": [
        "def missing_values_table(dataframe, na_name=False):\n",
        "    na_columns = [col for col in dataframe.columns if dataframe[col].isnull().sum() > 0]\n",
        "\n",
        "    n_miss = dataframe[na_columns].isnull().sum().sort_values(ascending=False)\n",
        "    ratio = (dataframe[na_columns].isnull().sum() / dataframe.shape[0] * 100).sort_values(ascending=False)\n",
        "    missing_df = pd.concat([n_miss, np.round(ratio, 2)], axis=1, keys=['n_miss', 'ratio'])\n",
        "    print(missing_df, end=\"\\n\")\n",
        "\n",
        "    if na_name:\n",
        "        return na_columns\n",
        "\n",
        "\n",
        "missing_values_table(diabetes)"
      ],
      "metadata": {
        "colab": {
          "base_uri": "https://localhost:8080/"
        },
        "id": "3Vnztsi7xM-B",
        "outputId": "878baccd-8db6-4b1f-eb9f-27f74539d90e"
      },
      "execution_count": 42,
      "outputs": [
        {
          "output_type": "stream",
          "name": "stdout",
          "text": [
            "               n_miss  ratio\n",
            "Insulin           374 48.700\n",
            "SkinThickness     227 29.560\n",
            "BloodPressure      35  4.560\n",
            "BMI                11  1.430\n",
            "Glucose             5  0.650\n"
          ]
        }
      ]
    },
    {
      "cell_type": "code",
      "source": [
        "missing_values_table(diabetes, True)"
      ],
      "metadata": {
        "colab": {
          "base_uri": "https://localhost:8080/"
        },
        "id": "w0NIafZOxhiv",
        "outputId": "e34b7328-8239-4577-f6e6-509bde5b9698"
      },
      "execution_count": 43,
      "outputs": [
        {
          "output_type": "stream",
          "name": "stdout",
          "text": [
            "               n_miss  ratio\n",
            "Insulin           374 48.700\n",
            "SkinThickness     227 29.560\n",
            "BloodPressure      35  4.560\n",
            "BMI                11  1.430\n",
            "Glucose             5  0.650\n"
          ]
        },
        {
          "output_type": "execute_result",
          "data": {
            "text/plain": [
              "['Glucose', 'BloodPressure', 'SkinThickness', 'Insulin', 'BMI']"
            ]
          },
          "metadata": {},
          "execution_count": 43
        }
      ]
    },
    {
      "cell_type": "code",
      "source": [
        "for col in selected:\n",
        "    diabetes[col]=diabetes[col].fillna(diabetes.groupby(\"Outcome\")[col].transform(\"mean\"))"
      ],
      "metadata": {
        "id": "707BwDi90wtB"
      },
      "execution_count": 44,
      "outputs": []
    },
    {
      "cell_type": "code",
      "source": [
        "diabetes.isnull().sum().sum()"
      ],
      "metadata": {
        "colab": {
          "base_uri": "https://localhost:8080/"
        },
        "id": "XuZgPn3D2j_i",
        "outputId": "04a1aaca-bb16-4a49-b1b8-ce449d89ec06"
      },
      "execution_count": 45,
      "outputs": [
        {
          "output_type": "execute_result",
          "data": {
            "text/plain": [
              "0"
            ]
          },
          "metadata": {},
          "execution_count": 45
        }
      ]
    },
    {
      "cell_type": "code",
      "source": [
        "diabetes.isnull().sum()"
      ],
      "metadata": {
        "colab": {
          "base_uri": "https://localhost:8080/",
          "height": 362
        },
        "id": "SHxSUuAa2lS-",
        "outputId": "99c83f40-552a-4d62-f396-e59163112c46"
      },
      "execution_count": 46,
      "outputs": [
        {
          "output_type": "execute_result",
          "data": {
            "text/plain": [
              "Pregnancies                 0\n",
              "Glucose                     0\n",
              "BloodPressure               0\n",
              "SkinThickness               0\n",
              "Insulin                     0\n",
              "BMI                         0\n",
              "DiabetesPedigreeFunction    0\n",
              "Age                         0\n",
              "Outcome                     0\n",
              "dtype: int64"
            ],
            "text/html": [
              "<div>\n",
              "<style scoped>\n",
              "    .dataframe tbody tr th:only-of-type {\n",
              "        vertical-align: middle;\n",
              "    }\n",
              "\n",
              "    .dataframe tbody tr th {\n",
              "        vertical-align: top;\n",
              "    }\n",
              "\n",
              "    .dataframe thead th {\n",
              "        text-align: right;\n",
              "    }\n",
              "</style>\n",
              "<table border=\"1\" class=\"dataframe\">\n",
              "  <thead>\n",
              "    <tr style=\"text-align: right;\">\n",
              "      <th></th>\n",
              "      <th>0</th>\n",
              "    </tr>\n",
              "  </thead>\n",
              "  <tbody>\n",
              "    <tr>\n",
              "      <th>Pregnancies</th>\n",
              "      <td>0</td>\n",
              "    </tr>\n",
              "    <tr>\n",
              "      <th>Glucose</th>\n",
              "      <td>0</td>\n",
              "    </tr>\n",
              "    <tr>\n",
              "      <th>BloodPressure</th>\n",
              "      <td>0</td>\n",
              "    </tr>\n",
              "    <tr>\n",
              "      <th>SkinThickness</th>\n",
              "      <td>0</td>\n",
              "    </tr>\n",
              "    <tr>\n",
              "      <th>Insulin</th>\n",
              "      <td>0</td>\n",
              "    </tr>\n",
              "    <tr>\n",
              "      <th>BMI</th>\n",
              "      <td>0</td>\n",
              "    </tr>\n",
              "    <tr>\n",
              "      <th>DiabetesPedigreeFunction</th>\n",
              "      <td>0</td>\n",
              "    </tr>\n",
              "    <tr>\n",
              "      <th>Age</th>\n",
              "      <td>0</td>\n",
              "    </tr>\n",
              "    <tr>\n",
              "      <th>Outcome</th>\n",
              "      <td>0</td>\n",
              "    </tr>\n",
              "  </tbody>\n",
              "</table>\n",
              "</div><br><label><b>dtype:</b> int64</label>"
            ]
          },
          "metadata": {},
          "execution_count": 46
        }
      ]
    },
    {
      "cell_type": "code",
      "source": [
        "diabetes.head()"
      ],
      "metadata": {
        "colab": {
          "base_uri": "https://localhost:8080/",
          "height": 224
        },
        "id": "d57Lqh8E2nIF",
        "outputId": "989fc0cd-1f36-4cac-c050-4c6edc483845"
      },
      "execution_count": 47,
      "outputs": [
        {
          "output_type": "execute_result",
          "data": {
            "text/plain": [
              "   Pregnancies  Glucose  BloodPressure  SkinThickness  Insulin    BMI  DiabetesPedigreeFunction  Age  Outcome\n",
              "0            6  148.000         72.000         35.000  206.846 33.600                     0.627   50        1\n",
              "1            1   85.000         66.000         29.000  130.288 26.600                     0.351   31        0\n",
              "2            8  183.000         64.000         33.000  206.846 23.300                     0.672   32        1\n",
              "3            1   89.000         66.000         23.000   94.000 28.100                     0.167   21        0\n",
              "4            0  137.000         40.000         35.000  168.000 43.100                     2.288   33        1"
            ],
            "text/html": [
              "\n",
              "  <div id=\"df-02ff6501-ce60-4498-875e-4bf0edf3d3b0\" class=\"colab-df-container\">\n",
              "    <div>\n",
              "<style scoped>\n",
              "    .dataframe tbody tr th:only-of-type {\n",
              "        vertical-align: middle;\n",
              "    }\n",
              "\n",
              "    .dataframe tbody tr th {\n",
              "        vertical-align: top;\n",
              "    }\n",
              "\n",
              "    .dataframe thead th {\n",
              "        text-align: right;\n",
              "    }\n",
              "</style>\n",
              "<table border=\"1\" class=\"dataframe\">\n",
              "  <thead>\n",
              "    <tr style=\"text-align: right;\">\n",
              "      <th></th>\n",
              "      <th>Pregnancies</th>\n",
              "      <th>Glucose</th>\n",
              "      <th>BloodPressure</th>\n",
              "      <th>SkinThickness</th>\n",
              "      <th>Insulin</th>\n",
              "      <th>BMI</th>\n",
              "      <th>DiabetesPedigreeFunction</th>\n",
              "      <th>Age</th>\n",
              "      <th>Outcome</th>\n",
              "    </tr>\n",
              "  </thead>\n",
              "  <tbody>\n",
              "    <tr>\n",
              "      <th>0</th>\n",
              "      <td>6</td>\n",
              "      <td>148.000</td>\n",
              "      <td>72.000</td>\n",
              "      <td>35.000</td>\n",
              "      <td>206.846</td>\n",
              "      <td>33.600</td>\n",
              "      <td>0.627</td>\n",
              "      <td>50</td>\n",
              "      <td>1</td>\n",
              "    </tr>\n",
              "    <tr>\n",
              "      <th>1</th>\n",
              "      <td>1</td>\n",
              "      <td>85.000</td>\n",
              "      <td>66.000</td>\n",
              "      <td>29.000</td>\n",
              "      <td>130.288</td>\n",
              "      <td>26.600</td>\n",
              "      <td>0.351</td>\n",
              "      <td>31</td>\n",
              "      <td>0</td>\n",
              "    </tr>\n",
              "    <tr>\n",
              "      <th>2</th>\n",
              "      <td>8</td>\n",
              "      <td>183.000</td>\n",
              "      <td>64.000</td>\n",
              "      <td>33.000</td>\n",
              "      <td>206.846</td>\n",
              "      <td>23.300</td>\n",
              "      <td>0.672</td>\n",
              "      <td>32</td>\n",
              "      <td>1</td>\n",
              "    </tr>\n",
              "    <tr>\n",
              "      <th>3</th>\n",
              "      <td>1</td>\n",
              "      <td>89.000</td>\n",
              "      <td>66.000</td>\n",
              "      <td>23.000</td>\n",
              "      <td>94.000</td>\n",
              "      <td>28.100</td>\n",
              "      <td>0.167</td>\n",
              "      <td>21</td>\n",
              "      <td>0</td>\n",
              "    </tr>\n",
              "    <tr>\n",
              "      <th>4</th>\n",
              "      <td>0</td>\n",
              "      <td>137.000</td>\n",
              "      <td>40.000</td>\n",
              "      <td>35.000</td>\n",
              "      <td>168.000</td>\n",
              "      <td>43.100</td>\n",
              "      <td>2.288</td>\n",
              "      <td>33</td>\n",
              "      <td>1</td>\n",
              "    </tr>\n",
              "  </tbody>\n",
              "</table>\n",
              "</div>\n",
              "    <div class=\"colab-df-buttons\">\n",
              "\n",
              "  <div class=\"colab-df-container\">\n",
              "    <button class=\"colab-df-convert\" onclick=\"convertToInteractive('df-02ff6501-ce60-4498-875e-4bf0edf3d3b0')\"\n",
              "            title=\"Convert this dataframe to an interactive table.\"\n",
              "            style=\"display:none;\">\n",
              "\n",
              "  <svg xmlns=\"http://www.w3.org/2000/svg\" height=\"24px\" viewBox=\"0 -960 960 960\">\n",
              "    <path d=\"M120-120v-720h720v720H120Zm60-500h600v-160H180v160Zm220 220h160v-160H400v160Zm0 220h160v-160H400v160ZM180-400h160v-160H180v160Zm440 0h160v-160H620v160ZM180-180h160v-160H180v160Zm440 0h160v-160H620v160Z\"/>\n",
              "  </svg>\n",
              "    </button>\n",
              "\n",
              "  <style>\n",
              "    .colab-df-container {\n",
              "      display:flex;\n",
              "      gap: 12px;\n",
              "    }\n",
              "\n",
              "    .colab-df-convert {\n",
              "      background-color: #E8F0FE;\n",
              "      border: none;\n",
              "      border-radius: 50%;\n",
              "      cursor: pointer;\n",
              "      display: none;\n",
              "      fill: #1967D2;\n",
              "      height: 32px;\n",
              "      padding: 0 0 0 0;\n",
              "      width: 32px;\n",
              "    }\n",
              "\n",
              "    .colab-df-convert:hover {\n",
              "      background-color: #E2EBFA;\n",
              "      box-shadow: 0px 1px 2px rgba(60, 64, 67, 0.3), 0px 1px 3px 1px rgba(60, 64, 67, 0.15);\n",
              "      fill: #174EA6;\n",
              "    }\n",
              "\n",
              "    .colab-df-buttons div {\n",
              "      margin-bottom: 4px;\n",
              "    }\n",
              "\n",
              "    [theme=dark] .colab-df-convert {\n",
              "      background-color: #3B4455;\n",
              "      fill: #D2E3FC;\n",
              "    }\n",
              "\n",
              "    [theme=dark] .colab-df-convert:hover {\n",
              "      background-color: #434B5C;\n",
              "      box-shadow: 0px 1px 3px 1px rgba(0, 0, 0, 0.15);\n",
              "      filter: drop-shadow(0px 1px 2px rgba(0, 0, 0, 0.3));\n",
              "      fill: #FFFFFF;\n",
              "    }\n",
              "  </style>\n",
              "\n",
              "    <script>\n",
              "      const buttonEl =\n",
              "        document.querySelector('#df-02ff6501-ce60-4498-875e-4bf0edf3d3b0 button.colab-df-convert');\n",
              "      buttonEl.style.display =\n",
              "        google.colab.kernel.accessAllowed ? 'block' : 'none';\n",
              "\n",
              "      async function convertToInteractive(key) {\n",
              "        const element = document.querySelector('#df-02ff6501-ce60-4498-875e-4bf0edf3d3b0');\n",
              "        const dataTable =\n",
              "          await google.colab.kernel.invokeFunction('convertToInteractive',\n",
              "                                                    [key], {});\n",
              "        if (!dataTable) return;\n",
              "\n",
              "        const docLinkHtml = 'Like what you see? Visit the ' +\n",
              "          '<a target=\"_blank\" href=https://colab.research.google.com/notebooks/data_table.ipynb>data table notebook</a>'\n",
              "          + ' to learn more about interactive tables.';\n",
              "        element.innerHTML = '';\n",
              "        dataTable['output_type'] = 'display_data';\n",
              "        await google.colab.output.renderOutput(dataTable, element);\n",
              "        const docLink = document.createElement('div');\n",
              "        docLink.innerHTML = docLinkHtml;\n",
              "        element.appendChild(docLink);\n",
              "      }\n",
              "    </script>\n",
              "  </div>\n",
              "\n",
              "\n",
              "<div id=\"df-66dee12b-9b6a-4168-a4c2-21a13b94f4f4\">\n",
              "  <button class=\"colab-df-quickchart\" onclick=\"quickchart('df-66dee12b-9b6a-4168-a4c2-21a13b94f4f4')\"\n",
              "            title=\"Suggest charts\"\n",
              "            style=\"display:none;\">\n",
              "\n",
              "<svg xmlns=\"http://www.w3.org/2000/svg\" height=\"24px\"viewBox=\"0 0 24 24\"\n",
              "     width=\"24px\">\n",
              "    <g>\n",
              "        <path d=\"M19 3H5c-1.1 0-2 .9-2 2v14c0 1.1.9 2 2 2h14c1.1 0 2-.9 2-2V5c0-1.1-.9-2-2-2zM9 17H7v-7h2v7zm4 0h-2V7h2v10zm4 0h-2v-4h2v4z\"/>\n",
              "    </g>\n",
              "</svg>\n",
              "  </button>\n",
              "\n",
              "<style>\n",
              "  .colab-df-quickchart {\n",
              "      --bg-color: #E8F0FE;\n",
              "      --fill-color: #1967D2;\n",
              "      --hover-bg-color: #E2EBFA;\n",
              "      --hover-fill-color: #174EA6;\n",
              "      --disabled-fill-color: #AAA;\n",
              "      --disabled-bg-color: #DDD;\n",
              "  }\n",
              "\n",
              "  [theme=dark] .colab-df-quickchart {\n",
              "      --bg-color: #3B4455;\n",
              "      --fill-color: #D2E3FC;\n",
              "      --hover-bg-color: #434B5C;\n",
              "      --hover-fill-color: #FFFFFF;\n",
              "      --disabled-bg-color: #3B4455;\n",
              "      --disabled-fill-color: #666;\n",
              "  }\n",
              "\n",
              "  .colab-df-quickchart {\n",
              "    background-color: var(--bg-color);\n",
              "    border: none;\n",
              "    border-radius: 50%;\n",
              "    cursor: pointer;\n",
              "    display: none;\n",
              "    fill: var(--fill-color);\n",
              "    height: 32px;\n",
              "    padding: 0;\n",
              "    width: 32px;\n",
              "  }\n",
              "\n",
              "  .colab-df-quickchart:hover {\n",
              "    background-color: var(--hover-bg-color);\n",
              "    box-shadow: 0 1px 2px rgba(60, 64, 67, 0.3), 0 1px 3px 1px rgba(60, 64, 67, 0.15);\n",
              "    fill: var(--button-hover-fill-color);\n",
              "  }\n",
              "\n",
              "  .colab-df-quickchart-complete:disabled,\n",
              "  .colab-df-quickchart-complete:disabled:hover {\n",
              "    background-color: var(--disabled-bg-color);\n",
              "    fill: var(--disabled-fill-color);\n",
              "    box-shadow: none;\n",
              "  }\n",
              "\n",
              "  .colab-df-spinner {\n",
              "    border: 2px solid var(--fill-color);\n",
              "    border-color: transparent;\n",
              "    border-bottom-color: var(--fill-color);\n",
              "    animation:\n",
              "      spin 1s steps(1) infinite;\n",
              "  }\n",
              "\n",
              "  @keyframes spin {\n",
              "    0% {\n",
              "      border-color: transparent;\n",
              "      border-bottom-color: var(--fill-color);\n",
              "      border-left-color: var(--fill-color);\n",
              "    }\n",
              "    20% {\n",
              "      border-color: transparent;\n",
              "      border-left-color: var(--fill-color);\n",
              "      border-top-color: var(--fill-color);\n",
              "    }\n",
              "    30% {\n",
              "      border-color: transparent;\n",
              "      border-left-color: var(--fill-color);\n",
              "      border-top-color: var(--fill-color);\n",
              "      border-right-color: var(--fill-color);\n",
              "    }\n",
              "    40% {\n",
              "      border-color: transparent;\n",
              "      border-right-color: var(--fill-color);\n",
              "      border-top-color: var(--fill-color);\n",
              "    }\n",
              "    60% {\n",
              "      border-color: transparent;\n",
              "      border-right-color: var(--fill-color);\n",
              "    }\n",
              "    80% {\n",
              "      border-color: transparent;\n",
              "      border-right-color: var(--fill-color);\n",
              "      border-bottom-color: var(--fill-color);\n",
              "    }\n",
              "    90% {\n",
              "      border-color: transparent;\n",
              "      border-bottom-color: var(--fill-color);\n",
              "    }\n",
              "  }\n",
              "</style>\n",
              "\n",
              "  <script>\n",
              "    async function quickchart(key) {\n",
              "      const quickchartButtonEl =\n",
              "        document.querySelector('#' + key + ' button');\n",
              "      quickchartButtonEl.disabled = true;  // To prevent multiple clicks.\n",
              "      quickchartButtonEl.classList.add('colab-df-spinner');\n",
              "      try {\n",
              "        const charts = await google.colab.kernel.invokeFunction(\n",
              "            'suggestCharts', [key], {});\n",
              "      } catch (error) {\n",
              "        console.error('Error during call to suggestCharts:', error);\n",
              "      }\n",
              "      quickchartButtonEl.classList.remove('colab-df-spinner');\n",
              "      quickchartButtonEl.classList.add('colab-df-quickchart-complete');\n",
              "    }\n",
              "    (() => {\n",
              "      let quickchartButtonEl =\n",
              "        document.querySelector('#df-66dee12b-9b6a-4168-a4c2-21a13b94f4f4 button');\n",
              "      quickchartButtonEl.style.display =\n",
              "        google.colab.kernel.accessAllowed ? 'block' : 'none';\n",
              "    })();\n",
              "  </script>\n",
              "</div>\n",
              "\n",
              "    </div>\n",
              "  </div>\n"
            ],
            "application/vnd.google.colaboratory.intrinsic+json": {
              "type": "dataframe",
              "variable_name": "diabetes",
              "summary": "{\n  \"name\": \"diabetes\",\n  \"rows\": 768,\n  \"fields\": [\n    {\n      \"column\": \"Pregnancies\",\n      \"properties\": {\n        \"dtype\": \"number\",\n        \"std\": 3,\n        \"min\": 0,\n        \"max\": 17,\n        \"num_unique_values\": 17,\n        \"samples\": [\n          6,\n          1,\n          3\n        ],\n        \"semantic_type\": \"\",\n        \"description\": \"\"\n      }\n    },\n    {\n      \"column\": \"Glucose\",\n      \"properties\": {\n        \"dtype\": \"number\",\n        \"std\": 30.462007686183547,\n        \"min\": 44.0,\n        \"max\": 199.0,\n        \"num_unique_values\": 137,\n        \"samples\": [\n          165.0,\n          91.0,\n          139.0\n        ],\n        \"semantic_type\": \"\",\n        \"description\": \"\"\n      }\n    },\n    {\n      \"column\": \"BloodPressure\",\n      \"properties\": {\n        \"dtype\": \"number\",\n        \"std\": 12.10604378716249,\n        \"min\": 24.0,\n        \"max\": 122.0,\n        \"num_unique_values\": 48,\n        \"samples\": [\n          85.0,\n          46.0,\n          62.0\n        ],\n        \"semantic_type\": \"\",\n        \"description\": \"\"\n      }\n    },\n    {\n      \"column\": \"SkinThickness\",\n      \"properties\": {\n        \"dtype\": \"number\",\n        \"std\": 8.92390845877169,\n        \"min\": 7.0,\n        \"max\": 99.0,\n        \"num_unique_values\": 51,\n        \"samples\": [\n          7.0,\n          12.0,\n          48.0\n        ],\n        \"semantic_type\": \"\",\n        \"description\": \"\"\n      }\n    },\n    {\n      \"column\": \"Insulin\",\n      \"properties\": {\n        \"dtype\": \"number\",\n        \"std\": 88.86091420922287,\n        \"min\": 14.0,\n        \"max\": 846.0,\n        \"num_unique_values\": 187,\n        \"samples\": [\n          16.0,\n          271.0,\n          325.0\n        ],\n        \"semantic_type\": \"\",\n        \"description\": \"\"\n      }\n    },\n    {\n      \"column\": \"BMI\",\n      \"properties\": {\n        \"dtype\": \"number\",\n        \"std\": 6.878969502444308,\n        \"min\": 18.2,\n        \"max\": 67.1,\n        \"num_unique_values\": 249,\n        \"samples\": [\n          30.9,\n          31.0,\n          28.2\n        ],\n        \"semantic_type\": \"\",\n        \"description\": \"\"\n      }\n    },\n    {\n      \"column\": \"DiabetesPedigreeFunction\",\n      \"properties\": {\n        \"dtype\": \"number\",\n        \"std\": 0.33132859501277484,\n        \"min\": 0.078,\n        \"max\": 2.42,\n        \"num_unique_values\": 517,\n        \"samples\": [\n          1.731,\n          0.426,\n          0.138\n        ],\n        \"semantic_type\": \"\",\n        \"description\": \"\"\n      }\n    },\n    {\n      \"column\": \"Age\",\n      \"properties\": {\n        \"dtype\": \"number\",\n        \"std\": 11,\n        \"min\": 21,\n        \"max\": 81,\n        \"num_unique_values\": 52,\n        \"samples\": [\n          60,\n          47,\n          72\n        ],\n        \"semantic_type\": \"\",\n        \"description\": \"\"\n      }\n    },\n    {\n      \"column\": \"Outcome\",\n      \"properties\": {\n        \"dtype\": \"number\",\n        \"std\": 0,\n        \"min\": 0,\n        \"max\": 1,\n        \"num_unique_values\": 2,\n        \"samples\": [\n          0,\n          1\n        ],\n        \"semantic_type\": \"\",\n        \"description\": \"\"\n      }\n    }\n  ]\n}"
            }
          },
          "metadata": {},
          "execution_count": 47
        }
      ]
    },
    {
      "cell_type": "code",
      "source": [
        "# aykırı değer\n",
        "\n",
        "def outlier_thresholds(dataframe, col_name, q1=0.05, q3=0.95):\n",
        "    quartile1 = dataframe[col_name].quantile(q1)\n",
        "    quartile3 = dataframe[col_name].quantile(q3)\n",
        "    interquantile_range = quartile3 - quartile1\n",
        "    up_limit = quartile3 + 1.5 * interquantile_range\n",
        "    low_limit = quartile1 - 1.5 * interquantile_range\n",
        "    return low_limit, up_limit\n",
        "\n",
        "def check_outlier(dataframe, col_name):\n",
        "    low_limit, up_limit = outlier_thresholds(dataframe, col_name)\n",
        "    if dataframe[(dataframe[col_name] > up_limit) | (dataframe[col_name] < low_limit)].any(axis=None):\n",
        "        return True\n",
        "    else:\n",
        "        return False\n",
        "\n",
        "for col in num_cols:\n",
        "    print(col, check_outlier(diabetes, col))"
      ],
      "metadata": {
        "colab": {
          "base_uri": "https://localhost:8080/"
        },
        "id": "S45kcTMi2yGE",
        "outputId": "06bb898a-ea71-4d14-d4a3-14207725831c"
      },
      "execution_count": 48,
      "outputs": [
        {
          "output_type": "stream",
          "name": "stdout",
          "text": [
            "Pregnancies False\n",
            "Glucose False\n",
            "BloodPressure False\n",
            "SkinThickness True\n",
            "Insulin True\n",
            "BMI False\n",
            "DiabetesPedigreeFunction False\n",
            "Age False\n"
          ]
        }
      ]
    },
    {
      "cell_type": "code",
      "source": [
        "def replace_with_thresholds(dataframe, variable):\n",
        "    low_limit, up_limit = outlier_thresholds(dataframe, variable)\n",
        "    dataframe.loc[(dataframe[variable] < low_limit), variable] = low_limit\n",
        "    dataframe.loc[(dataframe[variable] > up_limit), variable] = up_limit\n",
        "\n",
        "for col in num_cols:\n",
        "    replace_with_thresholds(diabetes, col)\n",
        "\n",
        "for col in num_cols:\n",
        "    print(col, check_outlier(diabetes, col))"
      ],
      "metadata": {
        "colab": {
          "base_uri": "https://localhost:8080/"
        },
        "id": "CaOtCB7f4-EK",
        "outputId": "625b0718-0aa6-4541-854d-c15c6913db01"
      },
      "execution_count": 49,
      "outputs": [
        {
          "output_type": "stream",
          "name": "stdout",
          "text": [
            "Pregnancies False\n",
            "Glucose False\n",
            "BloodPressure False\n",
            "SkinThickness False\n",
            "Insulin False\n",
            "BMI False\n",
            "DiabetesPedigreeFunction False\n",
            "Age False\n"
          ]
        },
        {
          "output_type": "stream",
          "name": "stderr",
          "text": [
            "<ipython-input-49-1aefe98af4b8>:3: FutureWarning: Setting an item of incompatible dtype is deprecated and will raise an error in a future version of pandas. Value '-34.5' has dtype incompatible with int64, please explicitly cast to a compatible dtype first.\n",
            "  dataframe.loc[(dataframe[variable] < low_limit), variable] = low_limit\n"
          ]
        }
      ]
    },
    {
      "cell_type": "code",
      "source": [
        "diabetes.columns = diabetes.columns.str.title()\n",
        "diabetes.columns"
      ],
      "metadata": {
        "colab": {
          "base_uri": "https://localhost:8080/"
        },
        "id": "7lZbBh-L5LHo",
        "outputId": "b59996d0-5f41-436d-9ccf-530d7b5c09ac"
      },
      "execution_count": 50,
      "outputs": [
        {
          "output_type": "execute_result",
          "data": {
            "text/plain": [
              "Index(['Pregnancies', 'Glucose', 'Bloodpressure', 'Skinthickness', 'Insulin', 'Bmi', 'Diabetespedigreefunction', 'Age', 'Outcome'], dtype='object')"
            ]
          },
          "metadata": {},
          "execution_count": 50
        }
      ]
    },
    {
      "cell_type": "code",
      "source": [
        "diabetes = diabetes.rename({'Bloodpressure':'Blood Pressure'},axis='columns')\n",
        "diabetes.columns"
      ],
      "metadata": {
        "colab": {
          "base_uri": "https://localhost:8080/"
        },
        "id": "QvL0zyY95VPC",
        "outputId": "7d03bb01-237d-4af7-a4a4-3648a43471a9"
      },
      "execution_count": 51,
      "outputs": [
        {
          "output_type": "execute_result",
          "data": {
            "text/plain": [
              "Index(['Pregnancies', 'Glucose', 'Blood Pressure', 'Skinthickness', 'Insulin', 'Bmi', 'Diabetespedigreefunction', 'Age', 'Outcome'], dtype='object')"
            ]
          },
          "metadata": {},
          "execution_count": 51
        }
      ]
    },
    {
      "cell_type": "code",
      "source": [
        "diabetes = diabetes.rename({'Skinthickness':'Skin Thickness'},axis='columns')\n",
        "diabetes.columns"
      ],
      "metadata": {
        "colab": {
          "base_uri": "https://localhost:8080/"
        },
        "id": "DqJWYeUC5dDs",
        "outputId": "d494917b-5aa7-4c2c-e95c-4578e90f0de3"
      },
      "execution_count": 52,
      "outputs": [
        {
          "output_type": "execute_result",
          "data": {
            "text/plain": [
              "Index(['Pregnancies', 'Glucose', 'Blood Pressure', 'Skin Thickness', 'Insulin', 'Bmi', 'Diabetespedigreefunction', 'Age', 'Outcome'], dtype='object')"
            ]
          },
          "metadata": {},
          "execution_count": 52
        }
      ]
    },
    {
      "cell_type": "code",
      "source": [
        "diabetes = diabetes.rename({'Diabetespedigreefunction':'Diabetes Pedigree Function'},axis='columns')\n",
        "diabetes.columns"
      ],
      "metadata": {
        "colab": {
          "base_uri": "https://localhost:8080/"
        },
        "id": "CpCwZ3Dz5jrE",
        "outputId": "19240043-109a-49c3-daf1-69860fc87980"
      },
      "execution_count": 53,
      "outputs": [
        {
          "output_type": "execute_result",
          "data": {
            "text/plain": [
              "Index(['Pregnancies', 'Glucose', 'Blood Pressure', 'Skin Thickness', 'Insulin', 'Bmi', 'Diabetes Pedigree Function', 'Age', 'Outcome'], dtype='object')"
            ]
          },
          "metadata": {},
          "execution_count": 53
        }
      ]
    },
    {
      "cell_type": "markdown",
      "source": [
        "## Adım 2: Yeni değişkenler oluşturunuz."
      ],
      "metadata": {
        "id": "lC_3yC7g55HJ"
      }
    },
    {
      "cell_type": "code",
      "source": [
        "def categorize_bmi(bmi):\n",
        "    if bmi < 18.5:\n",
        "        return 'Underweight'\n",
        "    elif 18.5 <= bmi < 24.9:\n",
        "        return 'Normal'\n",
        "    elif 25 <= bmi < 29.9:\n",
        "        return 'Overweight'\n",
        "    else:\n",
        "        return 'Obese'\n",
        "\n",
        "diabetes['BMICategory'] = diabetes['Bmi'].apply(categorize_bmi)\n",
        "\n",
        "def categorize_age(age):\n",
        "    if age < 30:\n",
        "        return 'Young'\n",
        "    elif 30 <= age < 50:\n",
        "        return 'Middle-aged'\n",
        "    else:\n",
        "        return 'Senior'\n",
        "\n",
        "diabetes['AgeGroup'] = diabetes['Age'].apply(categorize_age)\n",
        "\n",
        "print(diabetes[['BMICategory', 'AgeGroup']].head())"
      ],
      "metadata": {
        "colab": {
          "base_uri": "https://localhost:8080/"
        },
        "id": "yvAHEO4V6nXP",
        "outputId": "3ce88e9e-b52c-46ad-e664-91395dc5fa9c"
      },
      "execution_count": 55,
      "outputs": [
        {
          "output_type": "stream",
          "name": "stdout",
          "text": [
            "  BMICategory     AgeGroup\n",
            "0       Obese       Senior\n",
            "1  Overweight  Middle-aged\n",
            "2      Normal  Middle-aged\n",
            "3  Overweight        Young\n",
            "4       Obese  Middle-aged\n"
          ]
        }
      ]
    },
    {
      "cell_type": "markdown",
      "source": [
        "## Adım 3: Encoding işlemlerini gerçekleştiriniz."
      ],
      "metadata": {
        "id": "g04C0YdPKUyh"
      }
    },
    {
      "cell_type": "code",
      "source": [
        "# One-hot encoding ile kategorik değişkenleri sayısal hale getiriyoruz\n",
        "diabetes_encoded = pd.get_dummies(diabetes, columns=['BMICategory', 'AgeGroup'], drop_first=True)\n",
        "print(diabetes_encoded.head())"
      ],
      "metadata": {
        "colab": {
          "base_uri": "https://localhost:8080/"
        },
        "id": "s3HMOa0p64C4",
        "outputId": "da19c47f-2d90-47a1-cdc0-b93bb8592cca"
      },
      "execution_count": 56,
      "outputs": [
        {
          "output_type": "stream",
          "name": "stdout",
          "text": [
            "   Pregnancies  Glucose  Blood Pressure  Skin Thickness  Insulin    Bmi  Diabetes Pedigree Function    Age  Outcome  BMICategory_Obese  BMICategory_Overweight  BMICategory_Underweight  AgeGroup_Senior  AgeGroup_Young\n",
            "0            6  148.000          72.000          35.000  206.846 33.600                       0.627 50.000        1               True                   False                    False             True           False\n",
            "1            1   85.000          66.000          29.000  130.288 26.600                       0.351 31.000        0              False                    True                    False            False           False\n",
            "2            8  183.000          64.000          33.000  206.846 23.300                       0.672 32.000        1              False                   False                    False            False           False\n",
            "3            1   89.000          66.000          23.000   94.000 28.100                       0.167 21.000        0              False                    True                    False            False            True\n",
            "4            0  137.000          40.000          35.000  168.000 43.100                       2.288 33.000        1               True                   False                    False            False           False\n"
          ]
        }
      ]
    },
    {
      "cell_type": "markdown",
      "source": [
        "## Adım 4: Numerik değişkenler için standartlaştırma yapınız."
      ],
      "metadata": {
        "id": "ij05YLPEKXeT"
      }
    },
    {
      "cell_type": "code",
      "source": [
        "numerical_features = diabetes_encoded.drop('Outcome', axis=1)\n",
        "scaler = StandardScaler()\n",
        "numerical_features_scaled = scaler.fit_transform(numerical_features)\n",
        "diabetes_scaled = pd.DataFrame(numerical_features_scaled, columns=numerical_features.columns)\n",
        "diabetes_scaled['Outcome'] = diabetes_encoded['Outcome'].values\n",
        "print(diabetes_scaled.head())"
      ],
      "metadata": {
        "colab": {
          "base_uri": "https://localhost:8080/"
        },
        "id": "Z8IBmHh67DAk",
        "outputId": "27370027-334d-45ec-c98c-68f328d0714a"
      },
      "execution_count": 57,
      "outputs": [
        {
          "output_type": "stream",
          "name": "stdout",
          "text": [
            "   Pregnancies  Glucose  Blood Pressure  Skin Thickness  Insulin    Bmi  Diabetes Pedigree Function    Age  BMICategory_Obese  BMICategory_Overweight  BMICategory_Underweight  AgeGroup_Senior  AgeGroup_Young  Outcome\n",
            "0        0.640    0.864          -0.035           0.654    0.582  0.168                       0.468  1.426              0.755                  -0.541                   -0.072            2.762          -1.032        1\n",
            "1       -0.845   -1.205          -0.531          -0.026   -0.305 -0.850                      -0.365 -0.191             -1.324                   1.848                   -0.072           -0.362          -1.032        0\n",
            "2        1.234    2.014          -0.697           0.427    0.582 -1.330                       0.604 -0.106             -1.324                  -0.541                   -0.072           -0.362          -1.032        1\n",
            "3       -0.845   -1.074          -0.531          -0.707   -0.726 -0.632                      -0.921 -1.042             -1.324                   1.848                   -0.072           -0.362           0.969        0\n",
            "4       -1.142    0.503          -2.680           0.654    0.132  1.550                       5.485 -0.020              0.755                  -0.541                   -0.072           -0.362          -1.032        1\n"
          ]
        }
      ]
    },
    {
      "cell_type": "markdown",
      "source": [
        "## Adım 5: Model oluşturunuz."
      ],
      "metadata": {
        "id": "hDa6T8-iKZrF"
      }
    },
    {
      "cell_type": "code",
      "source": [
        "X = diabetes_scaled.drop(\"Outcome\", axis=1)\n",
        "y = diabetes_scaled[\"Outcome\"]\n",
        "\n",
        "X_train, X_test, y_train, y_test = train_test_split(X, y, test_size=0.2, random_state=42)\n",
        "\n",
        "rf_model = RandomForestClassifier(random_state=42)\n",
        "rf_model.fit(X_train, y_train)\n",
        "\n",
        "y_pred = rf_model.predict(X_test)\n",
        "\n",
        "accuracy = accuracy_score(y_test, y_pred)\n",
        "print(f\"Accuracy: {accuracy:.2f}\")\n",
        "\n",
        "plot_importance(rf_model, X)"
      ],
      "metadata": {
        "colab": {
          "base_uri": "https://localhost:8080/",
          "height": 573
        },
        "id": "hg_jPHRz7JiE",
        "outputId": "b566de32-c31b-4674-d7ba-36e7150c1332"
      },
      "execution_count": 60,
      "outputs": [
        {
          "output_type": "stream",
          "name": "stdout",
          "text": [
            "Accuracy: 0.88\n"
          ]
        },
        {
          "output_type": "stream",
          "name": "stderr",
          "text": [
            "<ipython-input-28-cfb86f70adc9>:12: FutureWarning: \n",
            "\n",
            "Passing `palette` without assigning `hue` is deprecated and will be removed in v0.14.0. Assign the `y` variable to `hue` and set `legend=False` for the same effect.\n",
            "\n",
            "  sns.barplot(x=\"Value\", y=\"Feature\",\n"
          ]
        },
        {
          "output_type": "display_data",
          "data": {
            "text/plain": [
              "<Figure size 1200x800 with 1 Axes>"
            ],
            "image/png": "[encoded data removed]"
          },
          "metadata": {}
        }
      ]
    }
  ]
}